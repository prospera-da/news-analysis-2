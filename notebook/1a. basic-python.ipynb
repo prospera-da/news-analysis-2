{
 "cells": [
  {
   "cell_type": "markdown",
   "metadata": {
    "id": "lfQCR9vdkfw8"
   },
   "source": [
    "### Check Python Version"
   ]
  },
  {
   "cell_type": "code",
   "execution_count": null,
   "metadata": {
    "colab": {
     "base_uri": "https://localhost:8080/"
    },
    "executionInfo": {
     "elapsed": 14,
     "status": "ok",
     "timestamp": 1748831903003,
     "user": {
      "displayName": "Yugo Gautomo",
      "userId": "13990311364294332367"
     },
     "user_tz": -420
    },
    "id": "jcPd6lfGflpK",
    "outputId": "007d32a4-836e-499e-9d6e-787be6c898eb"
   },
   "outputs": [],
   "source": [
    "import platform\n",
    "print(platform.python_version())"
   ]
  },
  {
   "cell_type": "markdown",
   "metadata": {
    "id": "-RaI_HTPk-oL"
   },
   "source": [
    "### Print"
   ]
  },
  {
   "cell_type": "code",
   "execution_count": null,
   "metadata": {
    "colab": {
     "base_uri": "https://localhost:8080/"
    },
    "executionInfo": {
     "elapsed": 19,
     "status": "ok",
     "timestamp": 1748832184440,
     "user": {
      "displayName": "Yugo Gautomo",
      "userId": "13990311364294332367"
     },
     "user_tz": -420
    },
    "id": "Cs2xUi2tgW74",
    "outputId": "d19ef4ee-7e23-4542-85d5-b35324f19d19"
   },
   "outputs": [],
   "source": [
    "print (\"hello Python\")"
   ]
  },
  {
   "cell_type": "code",
   "execution_count": 3,
   "metadata": {
    "colab": {
     "base_uri": "https://localhost:8080/"
    },
    "executionInfo": {
     "elapsed": 6367,
     "status": "ok",
     "timestamp": 1748832307852,
     "user": {
      "displayName": "Yugo Gautomo",
      "userId": "13990311364294332367"
     },
     "user_tz": -420
    },
    "id": "hboBqmdBhYEW",
    "outputId": "db1b5e5b-c1b1-44d6-fc6e-c357c77649f8"
   },
   "outputs": [],
   "source": [
    "name = input(\"What is your name?\")"
   ]
  },
  {
   "cell_type": "code",
   "execution_count": null,
   "metadata": {
    "colab": {
     "base_uri": "https://localhost:8080/"
    },
    "executionInfo": {
     "elapsed": 7,
     "status": "ok",
     "timestamp": 1748832323609,
     "user": {
      "displayName": "Yugo Gautomo",
      "userId": "13990311364294332367"
     },
     "user_tz": -420
    },
    "id": "AkBbXbeNhzBE",
    "outputId": "203192e5-7183-4b7e-c6ac-678270a0a3de"
   },
   "outputs": [],
   "source": [
    "print(\"Hello \", name)"
   ]
  },
  {
   "cell_type": "code",
   "execution_count": null,
   "metadata": {
    "colab": {
     "base_uri": "https://localhost:8080/"
    },
    "executionInfo": {
     "elapsed": 4,
     "status": "ok",
     "timestamp": 1748832585364,
     "user": {
      "displayName": "Yugo Gautomo",
      "userId": "13990311364294332367"
     },
     "user_tz": -420
    },
    "id": "t8mT44l0iXlS",
    "outputId": "52c4e2ce-5097-4d43-9d31-f049dade7ea0"
   },
   "outputs": [],
   "source": [
    "print(\"Berapa nilai 5 + 7 = 12\")"
   ]
  },
  {
   "cell_type": "code",
   "execution_count": null,
   "metadata": {
    "colab": {
     "base_uri": "https://localhost:8080/"
    },
    "executionInfo": {
     "elapsed": 8,
     "status": "ok",
     "timestamp": 1748832665303,
     "user": {
      "displayName": "Yugo Gautomo",
      "userId": "13990311364294332367"
     },
     "user_tz": -420
    },
    "id": "Ka9vRAEPi3Mx",
    "outputId": "a09b613d-0fdd-43a4-c275-f3500950407e"
   },
   "outputs": [],
   "source": [
    "print(\"Berapa nilai 5 + 7 =\", 5+7)"
   ]
  },
  {
   "cell_type": "markdown",
   "metadata": {
    "id": "cI29ftXjlBbb"
   },
   "source": [
    "### Basic Ops"
   ]
  },
  {
   "cell_type": "code",
   "execution_count": 7,
   "metadata": {
    "executionInfo": {
     "elapsed": 2,
     "status": "ok",
     "timestamp": 1748833097968,
     "user": {
      "displayName": "Yugo Gautomo",
      "userId": "13990311364294332367"
     },
     "user_tz": -420
    },
    "id": "HwWTdprcj022"
   },
   "outputs": [],
   "source": [
    "a = 5\n",
    "b = 70\n",
    "c = a * b"
   ]
  },
  {
   "cell_type": "code",
   "execution_count": null,
   "metadata": {
    "colab": {
     "base_uri": "https://localhost:8080/"
    },
    "executionInfo": {
     "elapsed": 5,
     "status": "ok",
     "timestamp": 1748832969513,
     "user": {
      "displayName": "Yugo Gautomo",
      "userId": "13990311364294332367"
     },
     "user_tz": -420
    },
    "id": "vXL068smjKum",
    "outputId": "bf52f613-0f5d-4cff-a76c-7f20e244078a"
   },
   "outputs": [],
   "source": [
    "print(\"Berapa nilai\", a , \"*\", b, \"=\", c)"
   ]
  },
  {
   "cell_type": "code",
   "execution_count": null,
   "metadata": {
    "colab": {
     "base_uri": "https://localhost:8080/"
    },
    "executionInfo": {
     "elapsed": 49,
     "status": "ok",
     "timestamp": 1748832969870,
     "user": {
      "displayName": "Yugo Gautomo",
      "userId": "13990311364294332367"
     },
     "user_tz": -420
    },
    "id": "bLC8wQBbkK0u",
    "outputId": "42e9ace9-b501-4532-952b-cdb1e03d6be4"
   },
   "outputs": [],
   "source": [
    "print(f\"Berapa nilai {a} * {b} = {c}\")"
   ]
  },
  {
   "cell_type": "code",
   "execution_count": null,
   "metadata": {
    "colab": {
     "base_uri": "https://localhost:8080/"
    },
    "executionInfo": {
     "elapsed": 7,
     "status": "ok",
     "timestamp": 1748832732258,
     "user": {
      "displayName": "Yugo Gautomo",
      "userId": "13990311364294332367"
     },
     "user_tz": -420
    },
    "id": "QQEwdHFwjNHc",
    "outputId": "d48d6f3f-a2c3-4a8c-a324-c955467c8365"
   },
   "outputs": [],
   "source": [
    "(4+8*20-2)**2"
   ]
  },
  {
   "cell_type": "code",
   "execution_count": null,
   "metadata": {
    "colab": {
     "base_uri": "https://localhost:8080/"
    },
    "executionInfo": {
     "elapsed": 11,
     "status": "ok",
     "timestamp": 1748832783162,
     "user": {
      "displayName": "Yugo Gautomo",
      "userId": "13990311364294332367"
     },
     "user_tz": -420
    },
    "id": "dCZVga10joJg",
    "outputId": "1bca0443-f1ec-408f-c4f6-d1eacbac8c86"
   },
   "outputs": [],
   "source": [
    "print(10 > 3)"
   ]
  },
  {
   "cell_type": "code",
   "execution_count": null,
   "metadata": {
    "colab": {
     "base_uri": "https://localhost:8080/"
    },
    "executionInfo": {
     "elapsed": 4,
     "status": "ok",
     "timestamp": 1748832769369,
     "user": {
      "displayName": "Yugo Gautomo",
      "userId": "13990311364294332367"
     },
     "user_tz": -420
    },
    "id": "bawNR8xljZwq",
    "outputId": "57baf789-7f4e-4b0c-bc24-6bbda01fa46d"
   },
   "outputs": [],
   "source": [
    "10 > 10.5"
   ]
  },
  {
   "cell_type": "markdown",
   "metadata": {
    "id": "Sd-6IoYSnGHR"
   },
   "source": [
    "### Type"
   ]
  },
  {
   "cell_type": "code",
   "execution_count": null,
   "metadata": {
    "colab": {
     "base_uri": "https://localhost:8080/"
    },
    "executionInfo": {
     "elapsed": 5,
     "status": "ok",
     "timestamp": 1748833649343,
     "user": {
      "displayName": "Yugo Gautomo",
      "userId": "13990311364294332367"
     },
     "user_tz": -420
    },
    "id": "lI_Y9HPvjlP1",
    "outputId": "3f19d83a-d71e-4963-a26b-a7693bc60648"
   },
   "outputs": [],
   "source": [
    "type(15)"
   ]
  },
  {
   "cell_type": "code",
   "execution_count": null,
   "metadata": {
    "colab": {
     "base_uri": "https://localhost:8080/"
    },
    "executionInfo": {
     "elapsed": 9,
     "status": "ok",
     "timestamp": 1748833797898,
     "user": {
      "displayName": "Yugo Gautomo",
      "userId": "13990311364294332367"
     },
     "user_tz": -420
    },
    "id": "V_eAwKU7nLXr",
    "outputId": "43e72ff2-90ef-4321-972a-da5cd82e76d1"
   },
   "outputs": [],
   "source": [
    "type(\"15\")"
   ]
  },
  {
   "cell_type": "code",
   "execution_count": null,
   "metadata": {
    "colab": {
     "base_uri": "https://localhost:8080/"
    },
    "executionInfo": {
     "elapsed": 5,
     "status": "ok",
     "timestamp": 1748833654303,
     "user": {
      "displayName": "Yugo Gautomo",
      "userId": "13990311364294332367"
     },
     "user_tz": -420
    },
    "id": "0vTvGU9-m7_a",
    "outputId": "de4eccca-d0c7-435d-b6eb-e140d303dda7"
   },
   "outputs": [],
   "source": [
    "type(15.1)"
   ]
  },
  {
   "cell_type": "code",
   "execution_count": null,
   "metadata": {
    "colab": {
     "base_uri": "https://localhost:8080/"
    },
    "executionInfo": {
     "elapsed": 4,
     "status": "ok",
     "timestamp": 1748833657873,
     "user": {
      "displayName": "Yugo Gautomo",
      "userId": "13990311364294332367"
     },
     "user_tz": -420
    },
    "id": "qNNPaGOTm9MR",
    "outputId": "5632e5ff-913c-441b-d08c-7e57ce710bb2"
   },
   "outputs": [],
   "source": [
    "type([15])"
   ]
  },
  {
   "cell_type": "markdown",
   "metadata": {
    "id": "j4DQjjvz0O32"
   },
   "source": [
    "### Data Type"
   ]
  },
  {
   "cell_type": "code",
   "execution_count": null,
   "metadata": {
    "colab": {
     "base_uri": "https://localhost:8080/"
    },
    "executionInfo": {
     "elapsed": 8,
     "status": "ok",
     "timestamp": 1748834524120,
     "user": {
      "displayName": "Yugo Gautomo",
      "userId": "13990311364294332367"
     },
     "user_tz": -420
    },
    "id": "YxSQDQONnA8O",
    "outputId": "77f8b475-cff8-4595-de5d-696774451b34"
   },
   "outputs": [],
   "source": [
    "car_brands = [[\"Toyota Camry\", \"Honda Civic\"], \"BMW X3\"]\n",
    "showroom = [\"Jakarta Plaza\", car_brands, \"Bandung Mall\", \"Surabaya Center\"]\n",
    "showroom"
   ]
  },
  {
   "cell_type": "code",
   "execution_count": null,
   "metadata": {
    "colab": {
     "base_uri": "https://localhost:8080/",
     "height": 35
    },
    "executionInfo": {
     "elapsed": 30,
     "status": "ok",
     "timestamp": 1748834529026,
     "user": {
      "displayName": "Yugo Gautomo",
      "userId": "13990311364294332367"
     },
     "user_tz": -420
    },
    "id": "eFxrivY8pV0g",
    "outputId": "75c763d5-4f4c-40ef-ebf4-a5ab070dc172"
   },
   "outputs": [],
   "source": [
    "showroom[0]"
   ]
  },
  {
   "cell_type": "code",
   "execution_count": null,
   "metadata": {
    "colab": {
     "base_uri": "https://localhost:8080/",
     "height": 35
    },
    "executionInfo": {
     "elapsed": 29,
     "status": "ok",
     "timestamp": 1748834529214,
     "user": {
      "displayName": "Yugo Gautomo",
      "userId": "13990311364294332367"
     },
     "user_tz": -420
    },
    "id": "Tz99jiSgpXld",
    "outputId": "b17a1e90-1122-4008-9804-3db2231648c3"
   },
   "outputs": [],
   "source": [
    "showroom[2]"
   ]
  },
  {
   "cell_type": "code",
   "execution_count": null,
   "metadata": {
    "colab": {
     "base_uri": "https://localhost:8080/"
    },
    "executionInfo": {
     "elapsed": 6,
     "status": "ok",
     "timestamp": 1748834712642,
     "user": {
      "displayName": "Yugo Gautomo",
      "userId": "13990311364294332367"
     },
     "user_tz": -420
    },
    "id": "S8MZMD97pFhL",
    "outputId": "983d86d7-b1f1-46cc-9482-24ed38f9c579"
   },
   "outputs": [],
   "source": [
    "print(showroom[1])\n",
    "print(showroom[1][0])\n",
    "print(showroom[1][0][1])"
   ]
  },
  {
   "cell_type": "code",
   "execution_count": null,
   "metadata": {
    "colab": {
     "base_uri": "https://localhost:8080/"
    },
    "executionInfo": {
     "elapsed": 5,
     "status": "ok",
     "timestamp": 1748834894874,
     "user": {
      "displayName": "Yugo Gautomo",
      "userId": "13990311364294332367"
     },
     "user_tz": -420
    },
    "id": "pshg24D2pIKi",
    "outputId": "c291ed69-db6e-4650-e9d8-54dc83ba4f50"
   },
   "outputs": [],
   "source": [
    "Car = {'Brand' : 'Toyota',\n",
    "\t\t'Model' : 'Innova Reborn',\n",
    "        'Price': 100000\n",
    "}\n",
    "print(Car)\n",
    "print(Car['Brand'])"
   ]
  },
  {
   "cell_type": "code",
   "execution_count": null,
   "metadata": {
    "colab": {
     "base_uri": "https://localhost:8080/"
    },
    "executionInfo": {
     "elapsed": 15,
     "status": "ok",
     "timestamp": 1748835137457,
     "user": {
      "displayName": "Yugo Gautomo",
      "userId": "13990311364294332367"
     },
     "user_tz": -420
    },
    "id": "c38VRdWLrsKi",
    "outputId": "7a4d6683-bd99-428c-8970-a172ad99cf1d"
   },
   "outputs": [],
   "source": [
    "Student = { 'Name' : 'Bob',\n",
    "\t\t\t'Grades' : {\n",
    "\t\t\t\t'Math' : 80,\n",
    "\t\t\t\t'Biology' : 70,\n",
    "\t\t\t\t'Physics': 60\n",
    "\t\t\t\t}\n",
    "\t\t}\n",
    "print(Student)\n",
    "print(Student['Grades']['Math'])\n"
   ]
  },
  {
   "cell_type": "code",
   "execution_count": null,
   "metadata": {
    "colab": {
     "base_uri": "https://localhost:8080/"
    },
    "executionInfo": {
     "elapsed": 11,
     "status": "ok",
     "timestamp": 1748835507287,
     "user": {
      "displayName": "Yugo Gautomo",
      "userId": "13990311364294332367"
     },
     "user_tz": -420
    },
    "id": "CyvSY4d8snYj",
    "outputId": "a6cfc38c-575f-4250-ce9c-ccdeecf8edf0"
   },
   "outputs": [],
   "source": [
    "Student = { \"Name\" : \"Bob\",\n",
    "            \"Grades\" : {\n",
    "                \"Math\" : [80, 75, 90],\n",
    "                \"Biology\" : [70, 50, 80, 80, 10],\n",
    "                \"Physics\": [60, 75]\n",
    "                }\n",
    "        }\n",
    "\n",
    "print(Student)\n",
    "print(Student[\"Grades\"][\"Math\"][2])\n"
   ]
  },
  {
   "cell_type": "code",
   "execution_count": null,
   "metadata": {
    "colab": {
     "base_uri": "https://localhost:8080/"
    },
    "executionInfo": {
     "elapsed": 4,
     "status": "ok",
     "timestamp": 1748835599337,
     "user": {
      "displayName": "Yugo Gautomo",
      "userId": "13990311364294332367"
     },
     "user_tz": -420
    },
    "id": "ceJxaht0s9sy",
    "outputId": "50c84405-f1fc-4dad-f32b-6f6ea0e885ae"
   },
   "outputs": [],
   "source": [
    "print(Student[\"Grades\"][\"Biology\"][2])\n",
    "print(Student[\"Grades\"][\"Biology\"][-1]) # nilai biology terakhir"
   ]
  },
  {
   "cell_type": "markdown",
   "metadata": {
    "id": "0bfU0q6Svdbt"
   },
   "source": [
    "### Branch"
   ]
  },
  {
   "cell_type": "code",
   "execution_count": null,
   "metadata": {
    "colab": {
     "base_uri": "https://localhost:8080/"
    },
    "executionInfo": {
     "elapsed": 4622,
     "status": "ok",
     "timestamp": 1748836101972,
     "user": {
      "displayName": "Yugo Gautomo",
      "userId": "13990311364294332367"
     },
     "user_tz": -420
    },
    "id": "7gPqidGeteKk",
    "outputId": "14b46733-fa82-4fe2-d2b3-2466357b0bb3"
   },
   "outputs": [],
   "source": [
    "name = input(\"Nama: \")\n",
    "nilai_str = input(\"Nilai: \")\n",
    "\n",
    "nilai = float(nilai_str)\n",
    "if nilai > 90:\n",
    "    print (\"Selamat \",name ,\"Lulus dengan nilai diatas rata-rata\")\n",
    "elif nilai > 70:\n",
    "    print (\"Selamat \",name ,\"Lulus\")\n",
    "else:\n",
    "    print (\"Anda belum beruntung\")"
   ]
  },
  {
   "cell_type": "markdown",
   "metadata": {
    "id": "zTPxNgxfwlxv"
   },
   "source": [
    "### Loop"
   ]
  },
  {
   "cell_type": "code",
   "execution_count": null,
   "metadata": {
    "colab": {
     "base_uri": "https://localhost:8080/"
    },
    "executionInfo": {
     "elapsed": 9,
     "status": "ok",
     "timestamp": 1748836605560,
     "user": {
      "displayName": "Yugo Gautomo",
      "userId": "13990311364294332367"
     },
     "user_tz": -420
    },
    "id": "U-xLixMgwlEY",
    "outputId": "f7f57776-e45f-42f5-c8a6-7fe69720e62b"
   },
   "outputs": [],
   "source": [
    "for i in range(10):\n",
    "    print(\"workshop\", i*i)"
   ]
  },
  {
   "cell_type": "code",
   "execution_count": null,
   "metadata": {
    "colab": {
     "base_uri": "https://localhost:8080/"
    },
    "executionInfo": {
     "elapsed": 5,
     "status": "ok",
     "timestamp": 1748836844209,
     "user": {
      "displayName": "Yugo Gautomo",
      "userId": "13990311364294332367"
     },
     "user_tz": -420
    },
    "id": "10q-TRjkup9B",
    "outputId": "14f3b4b4-69df-48e4-c5be-0cc5b3c58c0a"
   },
   "outputs": [],
   "source": [
    "name = \"workshop\"\n",
    "loop = 10\n",
    "i = 0\n",
    "while i < loop:\n",
    "    print(name, i)\n",
    "    # i += 1\n",
    "    i = i + 1"
   ]
  },
  {
   "cell_type": "markdown",
   "metadata": {
    "id": "xR50N5LoyfrY"
   },
   "source": [
    "### Function"
   ]
  },
  {
   "cell_type": "code",
   "execution_count": 28,
   "metadata": {
    "executionInfo": {
     "elapsed": 4,
     "status": "ok",
     "timestamp": 1748837294623,
     "user": {
      "displayName": "Yugo Gautomo",
      "userId": "13990311364294332367"
     },
     "user_tz": -420
    },
    "id": "KPUpARpTxATH"
   },
   "outputs": [],
   "source": [
    "def calculate_exam_result(name, score):\n",
    "  if score > 90:\n",
    "    grade = \"Excellent!\"\n",
    "  elif score > 70:\n",
    "    grade = \"Good Job!\"\n",
    "  else:\n",
    "    grade = \"Keep trying!\"\n",
    "\n",
    "  print(f\"Hello, {name}! Your score: {score}, {grade}\")"
   ]
  },
  {
   "cell_type": "code",
   "execution_count": null,
   "metadata": {
    "colab": {
     "base_uri": "https://localhost:8080/"
    },
    "executionInfo": {
     "elapsed": 10,
     "status": "ok",
     "timestamp": 1748837295649,
     "user": {
      "displayName": "Yugo Gautomo",
      "userId": "13990311364294332367"
     },
     "user_tz": -420
    },
    "id": "Ok2PZQc1zYXx",
    "outputId": "c6ffea09-cd29-406a-8adf-88afb90fe494"
   },
   "outputs": [],
   "source": [
    "calculate_exam_result(\"A\", 75)"
   ]
  },
  {
   "cell_type": "code",
   "execution_count": null,
   "metadata": {
    "colab": {
     "base_uri": "https://localhost:8080/"
    },
    "executionInfo": {
     "elapsed": 26,
     "status": "ok",
     "timestamp": 1748837296504,
     "user": {
      "displayName": "Yugo Gautomo",
      "userId": "13990311364294332367"
     },
     "user_tz": -420
    },
    "id": "IaQWDsTGzduO",
    "outputId": "4d74e31c-7357-4c49-8594-8d31deb2d7fb"
   },
   "outputs": [],
   "source": [
    "calculate_exam_result(\"B\", 95)"
   ]
  },
  {
   "cell_type": "code",
   "execution_count": null,
   "metadata": {
    "colab": {
     "base_uri": "https://localhost:8080/"
    },
    "executionInfo": {
     "elapsed": 14,
     "status": "ok",
     "timestamp": 1748837297041,
     "user": {
      "displayName": "Yugo Gautomo",
      "userId": "13990311364294332367"
     },
     "user_tz": -420
    },
    "id": "yGksvgw_zf-0",
    "outputId": "5b0a2f3c-f95a-4575-f099-9f600d16e401"
   },
   "outputs": [],
   "source": [
    "calculate_exam_result(\"C\", 15)"
   ]
  },
  {
   "cell_type": "code",
   "execution_count": 32,
   "metadata": {
    "executionInfo": {
     "elapsed": 2,
     "status": "ok",
     "timestamp": 1748837298347,
     "user": {
      "displayName": "Yugo Gautomo",
      "userId": "13990311364294332367"
     },
     "user_tz": -420
    },
    "id": "XRO9NGRwziCO"
   },
   "outputs": [],
   "source": [
    "student_grades = {\"A\": 75, \"B\": 95, \"C\": 15, \"D\": 0}"
   ]
  },
  {
   "cell_type": "code",
   "execution_count": null,
   "metadata": {
    "colab": {
     "base_uri": "https://localhost:8080/"
    },
    "executionInfo": {
     "elapsed": 4,
     "status": "ok",
     "timestamp": 1748837299156,
     "user": {
      "displayName": "Yugo Gautomo",
      "userId": "13990311364294332367"
     },
     "user_tz": -420
    },
    "id": "lR4QlfOL0oMt",
    "outputId": "6c20af17-f594-4c43-969a-c7994e1b7b17"
   },
   "outputs": [],
   "source": [
    "for name, score in student_grades.items():\n",
    "  calculate_exam_result(name, score)"
   ]
  },
  {
   "cell_type": "code",
   "execution_count": null,
   "metadata": {
    "id": "6f9SSHDZ0tqp"
   },
   "outputs": [],
   "source": []
  }
 ],
 "metadata": {
  "colab": {
   "authorship_tag": "ABX9TyO5xTvUJV+Y0D7CTQGqL13m",
   "provenance": []
  },
  "kernelspec": {
   "display_name": "news-watch",
   "language": "python",
   "name": "python3"
  },
  "language_info": {
   "codemirror_mode": {
    "name": "ipython",
    "version": 3
   },
   "file_extension": ".py",
   "mimetype": "text/x-python",
   "name": "python",
   "nbconvert_exporter": "python",
   "pygments_lexer": "ipython3",
   "version": "3.10.15"
  }
 },
 "nbformat": 4,
 "nbformat_minor": 0
}
