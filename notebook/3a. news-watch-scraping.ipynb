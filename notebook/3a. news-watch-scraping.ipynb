{
 "cells": [
  {
   "cell_type": "markdown",
   "metadata": {},
   "source": [
    "# News Watch Scraping Notebook\n",
    "\n",
    "This notebook demonstrates how to use the \"news-watch\" package to scrape Indonesian news articles. The package supports various command-line arguments that can be used to customize your scraping process.\n",
    "\n",
    "## Overview\n",
    "\n",
    "The news-watch package enables you to:\n",
    "- Scrape articles from various Indonesian news websites.\n",
    "- Filter articles based on keywords.\n",
    "- Specify a start date for scraping.\n",
    "- Choose output formats (CSV or XLSX).\n",
    "- Silently run scraping operations if desired.\n",
    "\n",
    "This notebook is designed for Google Colab. Any output files generated (CSV or XLSX) will appear under the \"Files\" tab on the left side.\n",
    "\n",
    "\n",
    "### Key command-line arguments\n",
    "Key command-line arguments include:\n",
    "\n",
    "- `-k` or `--keywords`: Specifies a comma-separated list of keywords. For example, `-k ihsg,bank,keuangan` or `--keywords ihsg,bank,keuangan`.\n",
    "- `-sd` or `--start_date`: Specifies the start date for scraping in the format YYYY-MM-DD.\n",
    "- `-s` or `--scrapers`: (Optional) Specifies a comma-separated list of news websites to scrape. When not provided, all supported scrapers will be used.\n",
    "- `-of` or `--output_format`: (Optional) Specifies the output format (e.g., csv, xlsx).\n",
    "- `--silent`: (Optional) Runs the scraper without printing output to the console."
   ]
  },
  {
   "cell_type": "markdown",
   "metadata": {},
   "source": [
    "#### Running Shell Commands in Colab\n",
    "In Google Colab or Jupyter notebooks, the \"!\" is used to run shell commands directly from a notebook cell. Since news-watch is a command-line tool, the commands must be prefixed with \"!\" so that they are executed in the notebook's shell environment rather than interpreted as Python code."
   ]
  },
  {
   "cell_type": "markdown",
   "metadata": {},
   "source": [
    "note:\n",
    "- `pip`       # used to install and manage Python packages.\n",
    "- `news-watch` # the command-line interface provided by the news-watch package for scraping news."
   ]
  },
  {
   "cell_type": "markdown",
   "metadata": {
    "vscode": {
     "languageId": "markdown"
    }
   },
   "source": [
    "To install the news-watch package, follow one of these methods:"
   ]
  },
  {
   "cell_type": "code",
   "execution_count": null,
   "metadata": {},
   "outputs": [],
   "source": [
    "!pip install news-watch --upgrade"
   ]
  },
  {
   "cell_type": "markdown",
   "metadata": {},
   "source": [
    "### Example Commands\n",
    "\n",
    "- Display help information:"
   ]
  },
  {
   "cell_type": "code",
   "execution_count": null,
   "metadata": {},
   "outputs": [],
   "source": [
    "!newswatch --help"
   ]
  },
  {
   "cell_type": "markdown",
   "metadata": {},
   "source": [
    "- Scrape articles with the keyword \"ihsg\" starting from February 1st, 2025:"
   ]
  },
  {
   "cell_type": "code",
   "execution_count": null,
   "metadata": {},
   "outputs": [],
   "source": [
    "!newswatch --keywords ekonomi --start_date 2025-01-01"
   ]
  },
  {
   "cell_type": "markdown",
   "metadata": {},
   "source": [
    "- Scrape articles for multiple keywords (ihsg, bank, keuangan) and disable logging:"
   ]
  },
  {
   "cell_type": "code",
   "execution_count": null,
   "metadata": {},
   "outputs": [],
   "source": [
    "!newswatch -k \"ihsg,bank,keuangan\" -sd 2025-01-01 --silent"
   ]
  },
  {
   "cell_type": "markdown",
   "metadata": {},
   "source": [
    "- Scrape articles for specific news website (bisnisindonesia and detik) with excel output format and disable logging:"
   ]
  },
  {
   "cell_type": "code",
   "execution_count": null,
   "metadata": {},
   "outputs": [],
   "source": [
    "!newswatch -k \"ihsg\" -s \"bisnisindonesia,detik\" --output_format xlsx -S"
   ]
  }
 ],
 "metadata": {
  "kernelspec": {
   "display_name": "workshop",
   "language": "python",
   "name": "python3"
  },
  "language_info": {
   "codemirror_mode": {
    "name": "ipython",
    "version": 3
   },
   "file_extension": ".py",
   "mimetype": "text/x-python",
   "name": "python",
   "nbconvert_exporter": "python",
   "pygments_lexer": "ipython3",
   "version": "3.11.11"
  }
 },
 "nbformat": 4,
 "nbformat_minor": 2
}
